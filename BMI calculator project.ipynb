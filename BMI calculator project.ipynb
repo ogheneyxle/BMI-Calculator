{
 "cells": [
  {
   "cell_type": "markdown",
   "id": "07ac1941-bc8b-409a-a8d1-9d76809b3a35",
   "metadata": {},
   "source": [
    "# BMI Calculator"
   ]
  },
  {
   "cell_type": "code",
   "execution_count": 36,
   "id": "6a2edac6-1a19-4cce-9e12-9db78d5a1c4e",
   "metadata": {},
   "outputs": [
    {
     "name": "stdin",
     "output_type": "stream",
     "text": [
      "your name:  jamie\n",
      "weight in kgs:  60\n",
      "height in metres:  1.77\n"
     ]
    },
    {
     "name": "stdout",
     "output_type": "stream",
     "text": [
      "19.15158479364167\n",
      "jamie, yo, you're in that sweet spot.\n"
     ]
    }
   ],
   "source": [
    "name = input(\"your name: \")\n",
    "weight = int(input(\"weight in kgs: \"))\n",
    "height = float(input(\"height in metres: \"))\n",
    "BMI = (weight) / (height * height)\n",
    "\n",
    "print(BMI)\n",
    "\n",
    "if BMI>0:\n",
    "    if(BMI<18.5):\n",
    "        print(name +\", yo, get your protein up!.\")\n",
    "    elif (BMI<=24.9):\n",
    "        print(name +\", yo, you're in that sweet spot.\")\n",
    "    elif (BMI<29.9):\n",
    "        print(name +\", you have strayed from the sweet spot.\")\n",
    "    elif (BMI<34.9):\n",
    "        print(name +\", you are obese.\")\n",
    "    elif (BMI<39.9):\n",
    "        print(name +\", you are severely obese.\")\n",
    "    elif (BMI>40):\n",
    "        print(name +\", you are morbidly obese.\")\n",
    "else:\n",
    "    print(\"Enter valid input\")"
   ]
  },
  {
   "cell_type": "code",
   "execution_count": null,
   "id": "99c86f46-9863-45b8-96d1-4c6525f3ed4a",
   "metadata": {},
   "outputs": [],
   "source": []
  },
  {
   "cell_type": "code",
   "execution_count": null,
   "id": "03928a48-5072-467f-a993-b7b0980016fe",
   "metadata": {},
   "outputs": [],
   "source": []
  },
  {
   "cell_type": "code",
   "execution_count": null,
   "id": "fb784bdc-d743-42b5-85d4-226a93277dc4",
   "metadata": {},
   "outputs": [],
   "source": []
  },
  {
   "cell_type": "code",
   "execution_count": null,
   "id": "8be79b1b-24dc-49d4-a80e-2c242a467329",
   "metadata": {},
   "outputs": [],
   "source": []
  },
  {
   "cell_type": "code",
   "execution_count": null,
   "id": "30301ad3-3093-4ed5-9018-87bfe05fb60e",
   "metadata": {},
   "outputs": [],
   "source": []
  },
  {
   "cell_type": "code",
   "execution_count": null,
   "id": "43b582e8-7cff-4b63-931e-e92f7dcd4f9d",
   "metadata": {},
   "outputs": [],
   "source": []
  },
  {
   "cell_type": "code",
   "execution_count": null,
   "id": "c25b13b8-d9b9-46c9-8339-61ce4b259a49",
   "metadata": {},
   "outputs": [],
   "source": []
  },
  {
   "cell_type": "code",
   "execution_count": null,
   "id": "a2b0542a-b97c-498d-9910-cd0908e263b4",
   "metadata": {},
   "outputs": [],
   "source": []
  },
  {
   "cell_type": "code",
   "execution_count": null,
   "id": "87c9b8b1-33d4-4f11-93b4-aeb10d8e9f88",
   "metadata": {},
   "outputs": [],
   "source": []
  },
  {
   "cell_type": "code",
   "execution_count": null,
   "id": "370ef60c-6bea-471d-bad9-6b279640ab57",
   "metadata": {},
   "outputs": [],
   "source": []
  },
  {
   "cell_type": "code",
   "execution_count": null,
   "id": "6b38eb5b-700a-4721-967f-c61cb39318db",
   "metadata": {},
   "outputs": [],
   "source": []
  },
  {
   "cell_type": "code",
   "execution_count": null,
   "id": "c0e040bf-8dab-424a-ba66-740f4e9eb070",
   "metadata": {},
   "outputs": [],
   "source": []
  },
  {
   "cell_type": "code",
   "execution_count": null,
   "id": "583d8c91-d21c-46b0-9e17-bd705ade7b80",
   "metadata": {},
   "outputs": [],
   "source": []
  }
 ],
 "metadata": {
  "kernelspec": {
   "display_name": "Python 3 (ipykernel)",
   "language": "python",
   "name": "python3"
  },
  "language_info": {
   "codemirror_mode": {
    "name": "ipython",
    "version": 3
   },
   "file_extension": ".py",
   "mimetype": "text/x-python",
   "name": "python",
   "nbconvert_exporter": "python",
   "pygments_lexer": "ipython3",
   "version": "3.12.7"
  }
 },
 "nbformat": 4,
 "nbformat_minor": 5
}
